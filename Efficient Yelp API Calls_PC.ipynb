{
 "cells": [
  {
   "cell_type": "code",
   "execution_count": 2,
   "id": "8b9fc824",
   "metadata": {},
   "outputs": [],
   "source": [
    "# standard imports\n",
    "import numpy as np\n",
    "import pandas as pd\n",
    "import matplotlib.pyplot as plt\n",
    "import seaborn as sns\n",
    "# extra imports\n",
    "import os, json, math, time\n",
    "from yelpapi import YelpAPI\n",
    "from tqdm.notebook import tqdm_notebook"
   ]
  },
  {
   "cell_type": "code",
   "execution_count": 3,
   "id": "e295e35d",
   "metadata": {},
   "outputs": [],
   "source": [
    "# load API credentials\n",
    "with open('/Users/priscillacole/.secret/yelp_api.json', 'r') as f:\n",
    "    login = json.load(f)"
   ]
  },
  {
   "cell_type": "code",
   "execution_count": 4,
   "id": "389c9269",
   "metadata": {},
   "outputs": [
    {
     "data": {
      "text/plain": [
       "dict_keys(['client-id', 'api-key'])"
      ]
     },
     "execution_count": 4,
     "metadata": {},
     "output_type": "execute_result"
    }
   ],
   "source": [
    "login.keys()"
   ]
  },
  {
   "cell_type": "code",
   "execution_count": 8,
   "id": "9c73571f",
   "metadata": {},
   "outputs": [],
   "source": [
    "# instantiate YelpAPI \n",
    "yelp = YelpAPI(login['api-key'],timeout_s= 5.0)"
   ]
  },
  {
   "cell_type": "code",
   "execution_count": 9,
   "id": "dbed1ff9",
   "metadata": {},
   "outputs": [],
   "source": [
    "# set our API call parameters and filename before the first call\n",
    "location = 'Atlanta, GA 30301'\n",
    "term = 'tacos'"
   ]
  },
  {
   "cell_type": "code",
   "execution_count": 11,
   "id": "7b37d401",
   "metadata": {},
   "outputs": [],
   "source": [
    "FOLDER = 'Data/'\n",
    "os.makedirs(FOLDER,exist_ok=True)"
   ]
  },
  {
   "cell_type": "code",
   "execution_count": 12,
   "id": "e1f36126",
   "metadata": {},
   "outputs": [
    {
     "data": {
      "text/plain": [
       "'Atlanta'"
      ]
     },
     "execution_count": 12,
     "metadata": {},
     "output_type": "execute_result"
    }
   ],
   "source": [
    "location.split(',')[0]"
   ]
  },
  {
   "cell_type": "code",
   "execution_count": 13,
   "id": "1f584ee6",
   "metadata": {},
   "outputs": [],
   "source": [
    "# Specifying JSON_FILE filename (can include a folder)\n",
    "JSON_FILE = FOLDER+f\"{location.split(',')[0]}-{term}.json\""
   ]
  },
  {
   "cell_type": "code",
   "execution_count": 14,
   "id": "3e1b37c8",
   "metadata": {},
   "outputs": [
    {
     "data": {
      "text/plain": [
       "'Data/Atlanta-tacos.json'"
      ]
     },
     "execution_count": 14,
     "metadata": {},
     "output_type": "execute_result"
    }
   ],
   "source": [
    "JSON_FILE"
   ]
  },
  {
   "cell_type": "code",
   "execution_count": 15,
   "id": "f92bee22",
   "metadata": {},
   "outputs": [
    {
     "name": "stdout",
     "output_type": "stream",
     "text": [
      "[i] Data/Atlanta-tacos.json not found. Saving empty list to file.\n"
     ]
    }
   ],
   "source": [
    "## Check if JSON_FILE exists\n",
    "file_exists = os.path.isfile(JSON_FILE)\n",
    "\n",
    "## If it does not exist: \n",
    "if file_exists == False:\n",
    "    \n",
    "    ## CREATE ANY NEEDED FOLDERS\n",
    "    # Get the Folder Name only\n",
    "    folder = os.path.dirname(JSON_FILE)\n",
    "    \n",
    "    ## If JSON_FILE included a folder:\n",
    "    if len(folder)>0:\n",
    "        # create the folder\n",
    "        os.makedirs(folder,exist_ok=True)\n",
    "        \n",
    "        \n",
    "    ## INFORM USER AND SAVE EMPTY LIST\n",
    "    print(f\"[i] {JSON_FILE} not found. Saving empty list to file.\")\n",
    "    \n",
    "    \n",
    "    ## save the first page of results\n",
    "    with open(JSON_FILE,'w') as f:\n",
    "        json.dump([],f)  \n",
    "        \n",
    "## If it exists, inform user\n",
    "else:\n",
    "    print(f\"[i] {JSON_FILE} already exists.\")"
   ]
  },
  {
   "cell_type": "markdown",
   "id": "7358d137",
   "metadata": {},
   "source": [
    "# Make First Call and Get Data"
   ]
  },
  {
   "cell_type": "code",
   "execution_count": 16,
   "id": "59c75603",
   "metadata": {},
   "outputs": [],
   "source": [
    "# use our yelp_api variable's search_query method to perform our API call\n",
    "results = yelp.search_query(term =term,location = location)"
   ]
  },
  {
   "cell_type": "code",
   "execution_count": 17,
   "id": "a0fc799d",
   "metadata": {},
   "outputs": [
    {
     "data": {
      "text/plain": [
       "dict"
      ]
     },
     "execution_count": 17,
     "metadata": {},
     "output_type": "execute_result"
    }
   ],
   "source": [
    "type(results)"
   ]
  },
  {
   "cell_type": "code",
   "execution_count": 18,
   "id": "5af8c445",
   "metadata": {},
   "outputs": [
    {
     "data": {
      "text/plain": [
       "dict_keys(['businesses', 'total', 'region'])"
      ]
     },
     "execution_count": 18,
     "metadata": {},
     "output_type": "execute_result"
    }
   ],
   "source": [
    "results.keys()"
   ]
  },
  {
   "cell_type": "code",
   "execution_count": 19,
   "id": "55dc3d94",
   "metadata": {},
   "outputs": [
    {
     "data": {
      "text/plain": [
       "{'id': 'wz6WkHmnv0xYFIsELh5tCg',\n",
       " 'alias': 'adobo-atlanta',\n",
       " 'name': 'Adobo',\n",
       " 'image_url': 'https://s3-media2.fl.yelpcdn.com/bphoto/sjdBqza9rwd6DYvP2hV7bw/o.jpg',\n",
       " 'is_closed': False,\n",
       " 'url': 'https://www.yelp.com/biz/adobo-atlanta?adjust_creative=EF8a8oVxO_eqnKdmEVpLxQ&utm_campaign=yelp_api_v3&utm_medium=api_v3_business_search&utm_source=EF8a8oVxO_eqnKdmEVpLxQ',\n",
       " 'review_count': 8,\n",
       " 'categories': [{'alias': 'filipino', 'title': 'Filipino'},\n",
       "  {'alias': 'popuprestaurants', 'title': 'Pop-Up Restaurants'}],\n",
       " 'rating': 5.0,\n",
       " 'coordinates': {'latitude': 33.7554893493652, 'longitude': -84.3906097412109},\n",
       " 'transactions': [],\n",
       " 'location': {'address1': '',\n",
       "  'address2': '',\n",
       "  'address3': '',\n",
       "  'city': 'Atlanta',\n",
       "  'zip_code': '30301',\n",
       "  'country': 'US',\n",
       "  'state': 'GA',\n",
       "  'display_address': ['Atlanta, GA 30301']},\n",
       " 'phone': '+14046181656',\n",
       " 'display_phone': '(404) 618-1656',\n",
       " 'distance': 0.31737077494853155}"
      ]
     },
     "execution_count": 19,
     "metadata": {},
     "output_type": "execute_result"
    }
   ],
   "source": [
    "results['businesses'][0]"
   ]
  },
  {
   "cell_type": "code",
   "execution_count": 20,
   "id": "dfaccd88",
   "metadata": {},
   "outputs": [
    {
     "data": {
      "text/html": [
       "<div>\n",
       "<style scoped>\n",
       "    .dataframe tbody tr th:only-of-type {\n",
       "        vertical-align: middle;\n",
       "    }\n",
       "\n",
       "    .dataframe tbody tr th {\n",
       "        vertical-align: top;\n",
       "    }\n",
       "\n",
       "    .dataframe thead th {\n",
       "        text-align: right;\n",
       "    }\n",
       "</style>\n",
       "<table border=\"1\" class=\"dataframe\">\n",
       "  <thead>\n",
       "    <tr style=\"text-align: right;\">\n",
       "      <th></th>\n",
       "      <th>id</th>\n",
       "      <th>alias</th>\n",
       "      <th>name</th>\n",
       "      <th>image_url</th>\n",
       "      <th>is_closed</th>\n",
       "      <th>url</th>\n",
       "      <th>review_count</th>\n",
       "      <th>categories</th>\n",
       "      <th>rating</th>\n",
       "      <th>coordinates</th>\n",
       "      <th>transactions</th>\n",
       "      <th>location</th>\n",
       "      <th>phone</th>\n",
       "      <th>display_phone</th>\n",
       "      <th>distance</th>\n",
       "      <th>price</th>\n",
       "    </tr>\n",
       "  </thead>\n",
       "  <tbody>\n",
       "    <tr>\n",
       "      <th>0</th>\n",
       "      <td>wz6WkHmnv0xYFIsELh5tCg</td>\n",
       "      <td>adobo-atlanta</td>\n",
       "      <td>Adobo</td>\n",
       "      <td>https://s3-media2.fl.yelpcdn.com/bphoto/sjdBqz...</td>\n",
       "      <td>False</td>\n",
       "      <td>https://www.yelp.com/biz/adobo-atlanta?adjust_...</td>\n",
       "      <td>8</td>\n",
       "      <td>[{'alias': 'filipino', 'title': 'Filipino'}, {...</td>\n",
       "      <td>5.0</td>\n",
       "      <td>{'latitude': 33.7554893493652, 'longitude': -8...</td>\n",
       "      <td>[]</td>\n",
       "      <td>{'address1': '', 'address2': '', 'address3': '...</td>\n",
       "      <td>+14046181656</td>\n",
       "      <td>(404) 618-1656</td>\n",
       "      <td>0.317371</td>\n",
       "      <td>NaN</td>\n",
       "    </tr>\n",
       "    <tr>\n",
       "      <th>1</th>\n",
       "      <td>wuba10gZw-FUp7iWFQzdqA</td>\n",
       "      <td>alma-cocina-downtown-atlanta</td>\n",
       "      <td>Alma Cocina - Downtown</td>\n",
       "      <td>https://s3-media1.fl.yelpcdn.com/bphoto/mmPM-R...</td>\n",
       "      <td>False</td>\n",
       "      <td>https://www.yelp.com/biz/alma-cocina-downtown-...</td>\n",
       "      <td>1181</td>\n",
       "      <td>[{'alias': 'latin', 'title': 'Latin American'}...</td>\n",
       "      <td>4.0</td>\n",
       "      <td>{'latitude': 33.759156314923, 'longitude': -84...</td>\n",
       "      <td>[delivery]</td>\n",
       "      <td>{'address1': '191 Peachtree St NE', 'address2'...</td>\n",
       "      <td>+14049689662</td>\n",
       "      <td>(404) 968-9662</td>\n",
       "      <td>254.056324</td>\n",
       "      <td>$$</td>\n",
       "    </tr>\n",
       "    <tr>\n",
       "      <th>2</th>\n",
       "      <td>apoBV5XVq8_WytnqNgKlug</td>\n",
       "      <td>willys-mexicana-grill-atlanta-2</td>\n",
       "      <td>Willy's Mexicana Grill</td>\n",
       "      <td>https://s3-media1.fl.yelpcdn.com/bphoto/k4oOzZ...</td>\n",
       "      <td>False</td>\n",
       "      <td>https://www.yelp.com/biz/willys-mexicana-grill...</td>\n",
       "      <td>43</td>\n",
       "      <td>[{'alias': 'tex-mex', 'title': 'Tex-Mex'}]</td>\n",
       "      <td>3.5</td>\n",
       "      <td>{'latitude': 33.760637, 'longitude': -84.387351}</td>\n",
       "      <td>[pickup, delivery]</td>\n",
       "      <td>{'address1': '235 Peachtree St NE', 'address2'...</td>\n",
       "      <td>+14045240821</td>\n",
       "      <td>(404) 524-0821</td>\n",
       "      <td>254.858042</td>\n",
       "      <td>$</td>\n",
       "    </tr>\n",
       "    <tr>\n",
       "      <th>3</th>\n",
       "      <td>_ecM0OUXnNOjB6CMnldDtg</td>\n",
       "      <td>the-sun-dial-restaurant-bar-and-view-atlanta</td>\n",
       "      <td>The Sun Dial Restaurant, Bar &amp; View</td>\n",
       "      <td>https://s3-media3.fl.yelpcdn.com/bphoto/5aSc41...</td>\n",
       "      <td>False</td>\n",
       "      <td>https://www.yelp.com/biz/the-sun-dial-restaura...</td>\n",
       "      <td>1196</td>\n",
       "      <td>[{'alias': 'newamerican', 'title': 'American (...</td>\n",
       "      <td>3.5</td>\n",
       "      <td>{'latitude': 33.759349, 'longitude': -84.388573}</td>\n",
       "      <td>[delivery]</td>\n",
       "      <td>{'address1': '210 Peachtree St NW', 'address2'...</td>\n",
       "      <td>+14045897506</td>\n",
       "      <td>(404) 589-7506</td>\n",
       "      <td>150.329897</td>\n",
       "      <td>$$$$</td>\n",
       "    </tr>\n",
       "    <tr>\n",
       "      <th>4</th>\n",
       "      <td>pl0rP0cZNaTZU0qPLqGOnw</td>\n",
       "      <td>jerk-brothers-atlanta</td>\n",
       "      <td>Jerk Brothers</td>\n",
       "      <td>https://s3-media3.fl.yelpcdn.com/bphoto/PqOrag...</td>\n",
       "      <td>False</td>\n",
       "      <td>https://www.yelp.com/biz/jerk-brothers-atlanta...</td>\n",
       "      <td>25</td>\n",
       "      <td>[{'alias': 'foodtrucks', 'title': 'Food Trucks...</td>\n",
       "      <td>2.0</td>\n",
       "      <td>{'latitude': 33.75531, 'longitude': -84.39085}</td>\n",
       "      <td>[]</td>\n",
       "      <td>{'address1': '', 'address2': '', 'address3': N...</td>\n",
       "      <td>+14044476804</td>\n",
       "      <td>(404) 447-6804</td>\n",
       "      <td>0.317371</td>\n",
       "      <td>NaN</td>\n",
       "    </tr>\n",
       "    <tr>\n",
       "      <th>5</th>\n",
       "      <td>X7vgSJUfaGyoa_H38ZG-yw</td>\n",
       "      <td>meehans-public-house-downtown-atlanta-2</td>\n",
       "      <td>Meehan's Public House - Downtown</td>\n",
       "      <td>https://s3-media1.fl.yelpcdn.com/bphoto/TWiGGT...</td>\n",
       "      <td>False</td>\n",
       "      <td>https://www.yelp.com/biz/meehans-public-house-...</td>\n",
       "      <td>484</td>\n",
       "      <td>[{'alias': 'bars', 'title': 'Bars'}, {'alias':...</td>\n",
       "      <td>3.5</td>\n",
       "      <td>{'latitude': 33.759147, 'longitude': -84.387734}</td>\n",
       "      <td>[pickup, delivery]</td>\n",
       "      <td>{'address1': '200 Peachtree St', 'address2': '...</td>\n",
       "      <td>+14042149821</td>\n",
       "      <td>(404) 214-9821</td>\n",
       "      <td>229.812785</td>\n",
       "      <td>$$</td>\n",
       "    </tr>\n",
       "    <tr>\n",
       "      <th>6</th>\n",
       "      <td>ztQuwIzoslpF1oQv--03Hg</td>\n",
       "      <td>terrace-atlanta</td>\n",
       "      <td>Terrace</td>\n",
       "      <td>https://s3-media2.fl.yelpcdn.com/bphoto/91a-ff...</td>\n",
       "      <td>False</td>\n",
       "      <td>https://www.yelp.com/biz/terrace-atlanta?adjus...</td>\n",
       "      <td>40</td>\n",
       "      <td>[{'alias': 'newamerican', 'title': 'American (...</td>\n",
       "      <td>3.0</td>\n",
       "      <td>{'latitude': 33.75826, 'longitude': -84.38783}</td>\n",
       "      <td>[delivery]</td>\n",
       "      <td>{'address1': '176 Peachtree St NW', 'address2'...</td>\n",
       "      <td>+16786512770</td>\n",
       "      <td>(678) 651-2770</td>\n",
       "      <td>272.618739</td>\n",
       "      <td>$$$</td>\n",
       "    </tr>\n",
       "    <tr>\n",
       "      <th>7</th>\n",
       "      <td>3R0TFde14zZt4LgXVYmhiQ</td>\n",
       "      <td>hooters-atlanta-2</td>\n",
       "      <td>Hooters</td>\n",
       "      <td>https://s3-media1.fl.yelpcdn.com/bphoto/FbLRjC...</td>\n",
       "      <td>False</td>\n",
       "      <td>https://www.yelp.com/biz/hooters-atlanta-2?adj...</td>\n",
       "      <td>468</td>\n",
       "      <td>[{'alias': 'chicken_wings', 'title': 'Chicken ...</td>\n",
       "      <td>2.0</td>\n",
       "      <td>{'latitude': 33.7595139, 'longitude': -84.387442}</td>\n",
       "      <td>[pickup, delivery]</td>\n",
       "      <td>{'address1': '209 Peachtree St NE', 'address2'...</td>\n",
       "      <td>+14045229464</td>\n",
       "      <td>(404) 522-9464</td>\n",
       "      <td>242.448011</td>\n",
       "      <td>$$</td>\n",
       "    </tr>\n",
       "    <tr>\n",
       "      <th>8</th>\n",
       "      <td>UAJwlmjBqbprKoQK4t7_NQ</td>\n",
       "      <td>views-bar-and-grill-atlanta</td>\n",
       "      <td>Views Bar And Grill</td>\n",
       "      <td>https://s3-media4.fl.yelpcdn.com/bphoto/Puu3r1...</td>\n",
       "      <td>False</td>\n",
       "      <td>https://www.yelp.com/biz/views-bar-and-grill-a...</td>\n",
       "      <td>122</td>\n",
       "      <td>[{'alias': 'tradamerican', 'title': 'American ...</td>\n",
       "      <td>3.0</td>\n",
       "      <td>{'latitude': 33.75931, 'longitude': -84.38826}</td>\n",
       "      <td>[pickup, delivery]</td>\n",
       "      <td>{'address1': '200 Peachtree St NE', 'address2'...</td>\n",
       "      <td>+16787320191</td>\n",
       "      <td>(678) 732-0191</td>\n",
       "      <td>240.258728</td>\n",
       "      <td>$$</td>\n",
       "    </tr>\n",
       "    <tr>\n",
       "      <th>9</th>\n",
       "      <td>YZ08okMxnfTbndZ3XPcauA</td>\n",
       "      <td>the-hub-at-peachtree-center-atlanta</td>\n",
       "      <td>The Hub at Peachtree Center</td>\n",
       "      <td>https://s3-media1.fl.yelpcdn.com/bphoto/r1KLNI...</td>\n",
       "      <td>False</td>\n",
       "      <td>https://www.yelp.com/biz/the-hub-at-peachtree-...</td>\n",
       "      <td>72</td>\n",
       "      <td>[{'alias': 'shopping', 'title': 'Shopping'}, {...</td>\n",
       "      <td>3.0</td>\n",
       "      <td>{'latitude': 33.7602091, 'longitude': -84.3870...</td>\n",
       "      <td>[]</td>\n",
       "      <td>{'address1': '231 Peachtree St NE', 'address2'...</td>\n",
       "      <td>+14045243787</td>\n",
       "      <td>(404) 524-3787</td>\n",
       "      <td>276.805820</td>\n",
       "      <td>$$</td>\n",
       "    </tr>\n",
       "    <tr>\n",
       "      <th>10</th>\n",
       "      <td>4pBPaZJYO6IHl0tOH6yBBQ</td>\n",
       "      <td>haveli-indian-cuisine-atlanta</td>\n",
       "      <td>Haveli Indian Cuisine</td>\n",
       "      <td>https://s3-media4.fl.yelpcdn.com/bphoto/JIIEXs...</td>\n",
       "      <td>False</td>\n",
       "      <td>https://www.yelp.com/biz/haveli-indian-cuisine...</td>\n",
       "      <td>195</td>\n",
       "      <td>[{'alias': 'indpak', 'title': 'Indian'}]</td>\n",
       "      <td>3.0</td>\n",
       "      <td>{'latitude': 33.7607097, 'longitude': -84.3890...</td>\n",
       "      <td>[pickup, delivery]</td>\n",
       "      <td>{'address1': '225 Ted Turner Dr NW', 'address2...</td>\n",
       "      <td>+14045224545</td>\n",
       "      <td>(404) 522-4545</td>\n",
       "      <td>119.230597</td>\n",
       "      <td>$$</td>\n",
       "    </tr>\n",
       "  </tbody>\n",
       "</table>\n",
       "</div>"
      ],
      "text/plain": [
       "                        id                                         alias  \\\n",
       "0   wz6WkHmnv0xYFIsELh5tCg                                 adobo-atlanta   \n",
       "1   wuba10gZw-FUp7iWFQzdqA                  alma-cocina-downtown-atlanta   \n",
       "2   apoBV5XVq8_WytnqNgKlug               willys-mexicana-grill-atlanta-2   \n",
       "3   _ecM0OUXnNOjB6CMnldDtg  the-sun-dial-restaurant-bar-and-view-atlanta   \n",
       "4   pl0rP0cZNaTZU0qPLqGOnw                         jerk-brothers-atlanta   \n",
       "5   X7vgSJUfaGyoa_H38ZG-yw       meehans-public-house-downtown-atlanta-2   \n",
       "6   ztQuwIzoslpF1oQv--03Hg                               terrace-atlanta   \n",
       "7   3R0TFde14zZt4LgXVYmhiQ                             hooters-atlanta-2   \n",
       "8   UAJwlmjBqbprKoQK4t7_NQ                   views-bar-and-grill-atlanta   \n",
       "9   YZ08okMxnfTbndZ3XPcauA           the-hub-at-peachtree-center-atlanta   \n",
       "10  4pBPaZJYO6IHl0tOH6yBBQ                 haveli-indian-cuisine-atlanta   \n",
       "\n",
       "                                   name  \\\n",
       "0                                 Adobo   \n",
       "1                Alma Cocina - Downtown   \n",
       "2                Willy's Mexicana Grill   \n",
       "3   The Sun Dial Restaurant, Bar & View   \n",
       "4                         Jerk Brothers   \n",
       "5      Meehan's Public House - Downtown   \n",
       "6                               Terrace   \n",
       "7                               Hooters   \n",
       "8                   Views Bar And Grill   \n",
       "9           The Hub at Peachtree Center   \n",
       "10                Haveli Indian Cuisine   \n",
       "\n",
       "                                            image_url  is_closed  \\\n",
       "0   https://s3-media2.fl.yelpcdn.com/bphoto/sjdBqz...      False   \n",
       "1   https://s3-media1.fl.yelpcdn.com/bphoto/mmPM-R...      False   \n",
       "2   https://s3-media1.fl.yelpcdn.com/bphoto/k4oOzZ...      False   \n",
       "3   https://s3-media3.fl.yelpcdn.com/bphoto/5aSc41...      False   \n",
       "4   https://s3-media3.fl.yelpcdn.com/bphoto/PqOrag...      False   \n",
       "5   https://s3-media1.fl.yelpcdn.com/bphoto/TWiGGT...      False   \n",
       "6   https://s3-media2.fl.yelpcdn.com/bphoto/91a-ff...      False   \n",
       "7   https://s3-media1.fl.yelpcdn.com/bphoto/FbLRjC...      False   \n",
       "8   https://s3-media4.fl.yelpcdn.com/bphoto/Puu3r1...      False   \n",
       "9   https://s3-media1.fl.yelpcdn.com/bphoto/r1KLNI...      False   \n",
       "10  https://s3-media4.fl.yelpcdn.com/bphoto/JIIEXs...      False   \n",
       "\n",
       "                                                  url  review_count  \\\n",
       "0   https://www.yelp.com/biz/adobo-atlanta?adjust_...             8   \n",
       "1   https://www.yelp.com/biz/alma-cocina-downtown-...          1181   \n",
       "2   https://www.yelp.com/biz/willys-mexicana-grill...            43   \n",
       "3   https://www.yelp.com/biz/the-sun-dial-restaura...          1196   \n",
       "4   https://www.yelp.com/biz/jerk-brothers-atlanta...            25   \n",
       "5   https://www.yelp.com/biz/meehans-public-house-...           484   \n",
       "6   https://www.yelp.com/biz/terrace-atlanta?adjus...            40   \n",
       "7   https://www.yelp.com/biz/hooters-atlanta-2?adj...           468   \n",
       "8   https://www.yelp.com/biz/views-bar-and-grill-a...           122   \n",
       "9   https://www.yelp.com/biz/the-hub-at-peachtree-...            72   \n",
       "10  https://www.yelp.com/biz/haveli-indian-cuisine...           195   \n",
       "\n",
       "                                           categories  rating  \\\n",
       "0   [{'alias': 'filipino', 'title': 'Filipino'}, {...     5.0   \n",
       "1   [{'alias': 'latin', 'title': 'Latin American'}...     4.0   \n",
       "2          [{'alias': 'tex-mex', 'title': 'Tex-Mex'}]     3.5   \n",
       "3   [{'alias': 'newamerican', 'title': 'American (...     3.5   \n",
       "4   [{'alias': 'foodtrucks', 'title': 'Food Trucks...     2.0   \n",
       "5   [{'alias': 'bars', 'title': 'Bars'}, {'alias':...     3.5   \n",
       "6   [{'alias': 'newamerican', 'title': 'American (...     3.0   \n",
       "7   [{'alias': 'chicken_wings', 'title': 'Chicken ...     2.0   \n",
       "8   [{'alias': 'tradamerican', 'title': 'American ...     3.0   \n",
       "9   [{'alias': 'shopping', 'title': 'Shopping'}, {...     3.0   \n",
       "10           [{'alias': 'indpak', 'title': 'Indian'}]     3.0   \n",
       "\n",
       "                                          coordinates        transactions  \\\n",
       "0   {'latitude': 33.7554893493652, 'longitude': -8...                  []   \n",
       "1   {'latitude': 33.759156314923, 'longitude': -84...          [delivery]   \n",
       "2    {'latitude': 33.760637, 'longitude': -84.387351}  [pickup, delivery]   \n",
       "3    {'latitude': 33.759349, 'longitude': -84.388573}          [delivery]   \n",
       "4      {'latitude': 33.75531, 'longitude': -84.39085}                  []   \n",
       "5    {'latitude': 33.759147, 'longitude': -84.387734}  [pickup, delivery]   \n",
       "6      {'latitude': 33.75826, 'longitude': -84.38783}          [delivery]   \n",
       "7   {'latitude': 33.7595139, 'longitude': -84.387442}  [pickup, delivery]   \n",
       "8      {'latitude': 33.75931, 'longitude': -84.38826}  [pickup, delivery]   \n",
       "9   {'latitude': 33.7602091, 'longitude': -84.3870...                  []   \n",
       "10  {'latitude': 33.7607097, 'longitude': -84.3890...  [pickup, delivery]   \n",
       "\n",
       "                                             location         phone  \\\n",
       "0   {'address1': '', 'address2': '', 'address3': '...  +14046181656   \n",
       "1   {'address1': '191 Peachtree St NE', 'address2'...  +14049689662   \n",
       "2   {'address1': '235 Peachtree St NE', 'address2'...  +14045240821   \n",
       "3   {'address1': '210 Peachtree St NW', 'address2'...  +14045897506   \n",
       "4   {'address1': '', 'address2': '', 'address3': N...  +14044476804   \n",
       "5   {'address1': '200 Peachtree St', 'address2': '...  +14042149821   \n",
       "6   {'address1': '176 Peachtree St NW', 'address2'...  +16786512770   \n",
       "7   {'address1': '209 Peachtree St NE', 'address2'...  +14045229464   \n",
       "8   {'address1': '200 Peachtree St NE', 'address2'...  +16787320191   \n",
       "9   {'address1': '231 Peachtree St NE', 'address2'...  +14045243787   \n",
       "10  {'address1': '225 Ted Turner Dr NW', 'address2...  +14045224545   \n",
       "\n",
       "     display_phone    distance price  \n",
       "0   (404) 618-1656    0.317371   NaN  \n",
       "1   (404) 968-9662  254.056324    $$  \n",
       "2   (404) 524-0821  254.858042     $  \n",
       "3   (404) 589-7506  150.329897  $$$$  \n",
       "4   (404) 447-6804    0.317371   NaN  \n",
       "5   (404) 214-9821  229.812785    $$  \n",
       "6   (678) 651-2770  272.618739   $$$  \n",
       "7   (404) 522-9464  242.448011    $$  \n",
       "8   (678) 732-0191  240.258728    $$  \n",
       "9   (404) 524-3787  276.805820    $$  \n",
       "10  (404) 522-4545  119.230597    $$  "
      ]
     },
     "execution_count": 20,
     "metadata": {},
     "output_type": "execute_result"
    }
   ],
   "source": [
    "pd.DataFrame(results['businesses'])"
   ]
  },
  {
   "cell_type": "code",
   "execution_count": 21,
   "id": "0d483b75",
   "metadata": {},
   "outputs": [
    {
     "data": {
      "text/plain": [
       "11"
      ]
     },
     "execution_count": 21,
     "metadata": {},
     "output_type": "execute_result"
    }
   ],
   "source": [
    "## How many results total?\n",
    "results['total']"
   ]
  },
  {
   "cell_type": "code",
   "execution_count": 22,
   "id": "a493b6df",
   "metadata": {},
   "outputs": [
    {
     "data": {
      "text/plain": [
       "{'center': {'longitude': -84.38999891281128, 'latitude': 33.7599989485559}}"
      ]
     },
     "execution_count": 22,
     "metadata": {},
     "output_type": "execute_result"
    }
   ],
   "source": [
    "results['region']"
   ]
  },
  {
   "cell_type": "code",
   "execution_count": 23,
   "id": "fa9ef5d9",
   "metadata": {},
   "outputs": [
    {
     "data": {
      "text/plain": [
       "11"
      ]
     },
     "execution_count": 23,
     "metadata": {},
     "output_type": "execute_result"
    }
   ],
   "source": [
    "## How many did we get the details for?\n",
    "results_per_page = len(results['businesses'])\n",
    "results_per_page"
   ]
  },
  {
   "cell_type": "code",
   "execution_count": 24,
   "id": "0ac87245",
   "metadata": {},
   "outputs": [
    {
     "data": {
      "text/plain": [
       "1"
      ]
     },
     "execution_count": 24,
     "metadata": {},
     "output_type": "execute_result"
    }
   ],
   "source": [
    "# Use math.ceil to round up for the total number of pages of results.\n",
    "# Import additional packages for controlling our loop\n",
    "import time, math\n",
    "# Use math.ceil to round up for the total number of pages of results.\n",
    "n_pages = math.ceil((results['total'])/ results_per_page)\n",
    "n_pages"
   ]
  },
  {
   "cell_type": "code",
   "execution_count": 25,
   "id": "cb70f8b7",
   "metadata": {},
   "outputs": [
    {
     "data": {
      "application/vnd.jupyter.widget-view+json": {
       "model_id": "85c63f25b1cd478389929dd07546df7e",
       "version_major": 2,
       "version_minor": 0
      },
      "text/plain": [
       "  0%|          | 0/1 [00:00<?, ?it/s]"
      ]
     },
     "metadata": {},
     "output_type": "display_data"
    }
   ],
   "source": [
    "for i in tqdm_notebook( range(1,n_pages+1)):\n",
    "   # The block of code we want to TRY to run\n",
    "    try:\n",
    "        \n",
    "        time.sleep(.2)\n",
    "        \n",
    "        ## Read in results in progress file and check the length\n",
    "        with open(JSON_FILE, 'r') as f:\n",
    "            previous_results = json.load(f)\n",
    "            \n",
    "        ## save number of results for to use as offset\n",
    "        n_results = len(previous_results)\n",
    "        \n",
    "        \n",
    "        ## use n_results as the OFFSET \n",
    "        results = yelp.search_query(location=location,\n",
    "                                        term=term, \n",
    "                                        offset=n_results+1)\n",
    "\n",
    "        ## append new results and save to file\n",
    "        previous_results.extend(results['businesses'])\n",
    "\n",
    "        with open(JSON_FILE,'w') as f:\n",
    "            json.dump(previous_results,f)\n",
    "            \n",
    "    #What to do if we get an error/exception.\n",
    "    except Exception as e: # saving the error message so we can print it.\n",
    "        print('[!] ERROR: ',e)"
   ]
  },
  {
   "cell_type": "code",
   "execution_count": null,
   "id": "19501a67",
   "metadata": {},
   "outputs": [],
   "source": []
  }
 ],
 "metadata": {
  "kernelspec": {
   "display_name": "Python (dojo-env)",
   "language": "python",
   "name": "dojo-env"
  },
  "language_info": {
   "codemirror_mode": {
    "name": "ipython",
    "version": 3
   },
   "file_extension": ".py",
   "mimetype": "text/x-python",
   "name": "python",
   "nbconvert_exporter": "python",
   "pygments_lexer": "ipython3",
   "version": "3.8.13"
  },
  "toc": {
   "base_numbering": 1,
   "nav_menu": {},
   "number_sections": false,
   "sideBar": true,
   "skip_h1_title": false,
   "title_cell": "Table of Contents",
   "title_sidebar": "Contents",
   "toc_cell": false,
   "toc_position": {},
   "toc_section_display": true,
   "toc_window_display": false
  }
 },
 "nbformat": 4,
 "nbformat_minor": 5
}
